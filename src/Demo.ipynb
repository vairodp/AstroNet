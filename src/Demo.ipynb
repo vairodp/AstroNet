{
  "nbformat": 4,
  "nbformat_minor": 2,
  "metadata": {
    "colab": {
      "name": "Demo.ipynb",
      "provenance": [],
      "collapsed_sections": []
    },
    "interpreter": {
      "hash": "e76a51440f5fb37cf153799ec9e38a390b2fedbf12f0f04232996520c8b9a368"
    },
    "kernelspec": {
      "name": "python3",
      "display_name": "Python 3.7.11 64-bit ('ska': conda)"
    },
    "language_info": {
      "codemirror_mode": {
        "name": "ipython",
        "version": 3
      },
      "file_extension": ".py",
      "mimetype": "text/x-python",
      "name": "python",
      "nbconvert_exporter": "python",
      "pygments_lexer": "ipython3",
      "version": "3.7.11"
    }
  },
  "cells": [
    {
      "cell_type": "markdown",
      "source": [
        "# Istanzia Yolo"
      ],
      "metadata": {
        "id": "A8hNg9GUYJUe"
      }
    },
    {
      "cell_type": "code",
      "execution_count": 1,
      "source": [
        "import cv2\r\n",
        "import numpy as np\r\n",
        "import matplotlib.pyplot as plt\r\n",
        "\r\n",
        "from yolo_v4 import YoloV4\r\n",
        "from configs.yolo_v4 import anchor_dict\r\n",
        "from configs.train_config import NUM_CLASSES\r\n",
        "from utils import non_max_suppression, draw_outputs"
      ],
      "outputs": [],
      "metadata": {
        "id": "04WBsByrYJUh"
      }
    },
    {
      "cell_type": "code",
      "execution_count": 2,
      "source": [
        "yolo = YoloV4(num_classes=NUM_CLASSES)\r\n",
        "#yolo.predict(np.zeros((1,128,128,3)))\r\n",
        "yolo.load_weights(filepath='../checkpoints/yolo/model-best.h5')"
      ],
      "outputs": [],
      "metadata": {
        "id": "Kcjk1_6kYiKh"
      }
    },
    {
      "cell_type": "markdown",
      "source": [
        "## Standard Image Demo"
      ],
      "metadata": {
        "id": "Tmgku0C_YJUr"
      }
    },
    {
      "cell_type": "code",
      "execution_count": 3,
      "source": [
        "image = cv2.imread('../checkpoints/example3.png')\r\n",
        "image = cv2.cvtColor(image, cv2.COLOR_BGR2RGB)\r\n",
        "plt.imshow(image)\r\n",
        "image = np.array(image)\r\n",
        "#wimage = tf.expand_dims(image,0)\r\n",
        "img_tensor = np.expand_dims(image, axis=0)\r\n",
        "img_tensor = (img_tensor/127.5)-1.0\r\n"
      ],
      "outputs": [],
      "metadata": {
        "id": "ljnz4qMQYJUu",
        "colab": {
          "base_uri": "https://localhost:8080/",
          "height": 268
        },
        "outputId": "ca2c5468-f59c-4e48-dcd4-e87a1874deac"
      }
    },
    {
      "cell_type": "markdown",
      "source": [
        "# Prediction"
      ],
      "metadata": {
        "id": "RCkjLJg8YJUy"
      }
    },
    {
      "cell_type": "code",
      "execution_count": 4,
      "source": [
        "pred = yolo.predict(img_tensor)\r\n",
        "#print(pred)\r\n",
        "boxes, scores, classes, nums = non_max_suppression(\r\n",
        "    pred, anchor_dict['anchors'], anchor_dict['anchor_masks'])\r\n",
        "\r\n",
        "print(boxes)"
      ],
      "outputs": [],
      "metadata": {
        "colab": {
          "base_uri": "https://localhost:8080/",
          "height": 1000
        },
        "id": "i6tmidI3YJUz",
        "outputId": "7ff90421-2d6e-427d-e677-54672dce0d4a"
      }
    },
    {
      "cell_type": "code",
      "execution_count": 5,
      "source": [
        "\r\n",
        "img_tensor = np.squeeze(img_tensor)\r\n",
        "img = draw_outputs(img_tensor, boxes, scores, classes, nums)\r\n",
        "plt.imshow(img)\r\n",
        "plt.savefig(\"result\")"
      ],
      "outputs": [
        {
          "output_type": "stream",
          "name": "stderr",
          "text": [
            "Clipping input data to the valid range for imshow with RGB data ([0..1] for floats or [0..255] for integers).\n"
          ]
        },
        {
          "output_type": "stream",
          "name": "stdout",
          "text": [
            "BOXES\n",
            "tf.Tensor(\n",
            "[[[0. 0. 0. 0.]\n",
            "  [0. 0. 0. 0.]\n",
            "  [0. 0. 0. 0.]\n",
            "  [0. 0. 0. 0.]\n",
            "  [0. 0. 0. 0.]\n",
            "  [0. 0. 0. 0.]\n",
            "  [0. 0. 0. 0.]\n",
            "  [0. 0. 0. 0.]\n",
            "  [0. 0. 0. 0.]\n",
            "  [0. 0. 0. 0.]\n",
            "  [0. 0. 0. 0.]\n",
            "  [0. 0. 0. 0.]\n",
            "  [0. 0. 0. 0.]\n",
            "  [0. 0. 0. 0.]\n",
            "  [0. 0. 0. 0.]\n",
            "  [0. 0. 0. 0.]\n",
            "  [0. 0. 0. 0.]\n",
            "  [0. 0. 0. 0.]\n",
            "  [0. 0. 0. 0.]\n",
            "  [0. 0. 0. 0.]\n",
            "  [0. 0. 0. 0.]\n",
            "  [0. 0. 0. 0.]\n",
            "  [0. 0. 0. 0.]\n",
            "  [0. 0. 0. 0.]\n",
            "  [0. 0. 0. 0.]\n",
            "  [0. 0. 0. 0.]\n",
            "  [0. 0. 0. 0.]\n",
            "  [0. 0. 0. 0.]\n",
            "  [0. 0. 0. 0.]\n",
            "  [0. 0. 0. 0.]]], shape=(1, 30, 4), dtype=float32)\n",
            "OBJ\n",
            "tf.Tensor(\n",
            "[[0. 0. 0. 0. 0. 0. 0. 0. 0. 0. 0. 0. 0. 0. 0. 0. 0. 0. 0. 0. 0. 0. 0. 0.\n",
            "  0. 0. 0. 0. 0. 0.]], shape=(1, 30), dtype=float32)\n",
            "classes\n",
            "tf.Tensor(\n",
            "[[0. 0. 0. 0. 0. 0. 0. 0. 0. 0. 0. 0. 0. 0. 0. 0. 0. 0. 0. 0. 0. 0. 0. 0.\n",
            "  0. 0. 0. 0. 0. 0.]], shape=(1, 30), dtype=float32)\n",
            "nums\n",
            "tf.Tensor([0], shape=(1,), dtype=int32)\n"
          ]
        }
      ],
      "metadata": {}
    }
  ]
}
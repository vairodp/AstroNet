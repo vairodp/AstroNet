{
 "cells": [
  {
   "cell_type": "markdown",
   "source": [
    "# Istanzia Yolo"
   ],
   "metadata": {}
  },
  {
   "cell_type": "code",
   "execution_count": null,
   "source": [
    "import tensorflow as tf\r\n",
    "import cv2\r\n",
    "import numpy as np\r\n",
    "import matplotlib.pyplot as plt\r\n",
    "\r\n",
    "from src.yolo_v4 import YoloV4\r\n",
    "from src.configs.yolo_v4 import NUM_CLASSES\r\n",
    "from src.utils import non_max_suppression, draw_outputs\r\n",
    "\r\n",
    "\r\n",
    "yolo = YoloV4(num_classes=NUM_CLASSES)\r\n",
    "yolo.predict(np.zeros((1,128,128,3)))\r\n",
    "yolo.load_weights(filepath='../checkpoints/model.04-2.88.h5')"
   ],
   "outputs": [],
   "metadata": {}
  },
  {
   "cell_type": "markdown",
   "source": [
    "## Standard Best Weights"
   ],
   "metadata": {}
  },
  {
   "cell_type": "code",
   "execution_count": null,
   "source": [],
   "outputs": [],
   "metadata": {}
  },
  {
   "cell_type": "markdown",
   "source": [
    "## Upload Weigths"
   ],
   "metadata": {}
  },
  {
   "cell_type": "markdown",
   "source": [],
   "metadata": {}
  },
  {
   "cell_type": "markdown",
   "source": [
    "## Standard Image Demo"
   ],
   "metadata": {}
  },
  {
   "cell_type": "code",
   "execution_count": null,
   "source": [
    "image = cv2.imread('../checkpoints/example.png')\r\n",
    "image = np.array(image)\r\n",
    "#wimage = tf.expand_dims(image,0)\r\n",
    "img_tensor = np.expand_dims(image, axis=0)\r\n",
    "img_tensor = (img_tensor/127.5)-1.0"
   ],
   "outputs": [],
   "metadata": {}
  },
  {
   "cell_type": "markdown",
   "source": [
    "## Upload Image"
   ],
   "metadata": {}
  },
  {
   "cell_type": "code",
   "execution_count": null,
   "source": [],
   "outputs": [],
   "metadata": {}
  },
  {
   "cell_type": "markdown",
   "source": [
    "# Prediction"
   ],
   "metadata": {}
  },
  {
   "cell_type": "code",
   "execution_count": null,
   "source": [
    "pred = yolo.predict(img_tensor)\r\n",
    "boxes,scores,classes,nums = non_max_suppression(pred)\r\n",
    "\r\n",
    "img_tensor = np.squeeze(img_tensor)\r\n",
    "img = draw_outputs(img_tensor, boxes, scores, classes, nums)\r\n",
    "plt.imshow(img)\r\n",
    "plt.savefig(\"result\")\r\n"
   ],
   "outputs": [],
   "metadata": {}
  }
 ],
 "metadata": {
  "orig_nbformat": 4,
  "language_info": {
   "name": "python",
   "version": "3.9.5",
   "mimetype": "text/x-python",
   "codemirror_mode": {
    "name": "ipython",
    "version": 3
   },
   "pygments_lexer": "ipython3",
   "nbconvert_exporter": "python",
   "file_extension": ".py"
  },
  "kernelspec": {
   "name": "python3",
   "display_name": "Python 3.9.5 64-bit ('tf': conda)"
  },
  "interpreter": {
   "hash": "686d56d47eca2c47fbe11e6a4db3536b0031fb267b5de8615db5614743b507d2"
  }
 },
 "nbformat": 4,
 "nbformat_minor": 2
}
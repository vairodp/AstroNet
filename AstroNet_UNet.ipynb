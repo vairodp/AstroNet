{
  "nbformat": 4,
  "nbformat_minor": 2,
  "metadata": {
    "colab": {
      "name": "AstroNet-UNet.ipynb",
      "provenance": [],
      "collapsed_sections": []
    },
    "kernelspec": {
      "name": "python3",
      "display_name": "Python 3"
    },
    "language_info": {
      "name": "python"
    },
    "accelerator": "GPU"
  },
  "cells": [
    {
      "cell_type": "markdown",
      "source": [
        "First, clone the repository"
      ],
      "metadata": {
        "id": "bLfiRwxEWrjx"
      }
    },
    {
      "cell_type": "code",
      "execution_count": null,
      "source": [
        "!git clone https://github.com/vairodp/AstroNet.git"
      ],
      "outputs": [],
      "metadata": {
        "colab": {
          "base_uri": "https://localhost:8080/"
        },
        "id": "pvhanT9WXFm4",
        "outputId": "efee3261-89d7-4c98-8277-0dd8660f5a45"
      }
    },
    {
      "cell_type": "code",
      "execution_count": null,
      "source": [
        "%cd AstroNet"
      ],
      "outputs": [],
      "metadata": {
        "colab": {
          "base_uri": "https://localhost:8080/"
        },
        "id": "_lKOx9bFXGYf",
        "outputId": "540d178d-3279-464f-eaa9-55f932fe80fb"
      }
    },
    {
      "cell_type": "markdown",
      "source": [
        "Then install the missing libraries that our code requires:"
      ],
      "metadata": {
        "id": "BYzSdYWnXNzz"
      }
    },
    {
      "cell_type": "code",
      "execution_count": null,
      "source": [
        "!pip install tensorflow_addons\r\n",
        "!pip install tensorflow-datasets==4.3.0\r\n",
        "!pip install imgaug==0.4.0"
      ],
      "outputs": [],
      "metadata": {
        "colab": {
          "base_uri": "https://localhost:8080/"
        },
        "id": "06BNYpqcXR8S",
        "outputId": "07d58e58-cfb8-4b88-df26-3d6c56bb715e"
      }
    },
    {
      "cell_type": "markdown",
      "source": [
        "Make sure you're using a GPU in order to get fast train and inference."
      ],
      "metadata": {
        "id": "GkL_UwcWXS0y"
      }
    },
    {
      "cell_type": "code",
      "execution_count": null,
      "source": [
        "import tensorflow as tf\r\n",
        "device_name = tf.test.gpu_device_name()\r\n",
        "if device_name != '/device:GPU:0':\r\n",
        "  raise SystemError('GPU device not found')\r\n",
        "print('Found GPU at: {}'.format(device_name))"
      ],
      "outputs": [],
      "metadata": {
        "colab": {
          "base_uri": "https://localhost:8080/"
        },
        "id": "FrZuZRP-XgSl",
        "outputId": "31f3cdae-f6af-492f-93dc-01cef6b3e79a"
      }
    },
    {
      "cell_type": "code",
      "execution_count": null,
      "source": [
        "device_name = tf.test.gpu_device_name()\r\n",
        "if device_name != '/device:GPU:0':\r\n",
        "  print(\r\n",
        "      '\\n\\nThis error most likely means that this notebook is not '\r\n",
        "      'configured to use a GPU.  Change this in Notebook Settings via the '\r\n",
        "      'command palette (cmd/ctrl-shift-P) or the Edit menu.\\n\\n')\r\n",
        "  raise SystemError('GPU device not found')"
      ],
      "outputs": [],
      "metadata": {
        "id": "vi4LyaHhXi3f"
      }
    },
    {
      "cell_type": "markdown",
      "source": [
        "Finally, run the training code"
      ],
      "metadata": {
        "id": "thfdzLqFXq7k"
      }
    },
    {
      "cell_type": "code",
      "execution_count": null,
      "source": [
        "%cd src"
      ],
      "outputs": [],
      "metadata": {
        "colab": {
          "base_uri": "https://localhost:8080/"
        },
        "id": "zrpL28zXbdal",
        "outputId": "6f58423b-e9ff-4a69-cd1d-b7144ed8ccc7"
      }
    },
    {
      "cell_type": "code",
      "execution_count": null,
      "source": [
        "from unet import SourceSegmentation\n",
        "from datasets.convo_ska import ConvoSKA\n",
        "from callbacks.display_callback import DisplayCallback\n",
        "from configs.train_config import ITER_PER_EPOCH, NUM_EPOCHS\n",
        "\n",
        "\n",
        "# Set use_class_weights=False to run the model without weights for the 4 classes\n",
        "# Set tiny=True to run the smaller version of this model\n",
        "unet = SourceSegmentation((128,128,1), use_class_weights=True, tiny=False)\n",
        "unet.model.summary()\n",
        "optimizer = tf.keras.optimizers.Adam(learning_rate=0.003, clipvalue=1.0)\n",
        "checkpoint_filepath = '../checkpoints/unet-best.h5'\n",
        "\n",
        "model_checkpoint_callback = tf.keras.callbacks.ModelCheckpoint(\n",
        "    filepath=checkpoint_filepath,\n",
        "    save_weights_only=True,\n",
        "    monitor='val_loss',\n",
        "    mode='min',\n",
        "    save_best_only=True)\n",
        "tensorboard_callback = tf.keras.callbacks.TensorBoard(log_dir='../log')\n",
        "early_stop_callback = tf.keras.callbacks.EarlyStopping(patience=10)\n",
        "\n",
        "unet.compile(optimizer=optimizer, loss=tf.keras.losses.SparseCategoricalCrossentropy(from_logits=True), metrics=['accuracy'])\n",
        "dataset_train = ConvoSKA(mode='train').get_dataset()\n",
        "val_data = ConvoSKA(mode='validation').get_dataset()\n",
        "display_callback = DisplayCallback(val_data)\n",
        "\n",
        "\n",
        "unet.fit(dataset_train, epochs=NUM_EPOCHS, validation_data=val_data, \n",
        "        callbacks=[model_checkpoint_callback, display_callback, tensorboard_callback, early_stop_callback], steps_per_epoch=ITER_PER_EPOCH)\n"
      ],
      "outputs": [],
      "metadata": {
        "colab": {
          "base_uri": "https://localhost:8080/",
          "height": 1000
        },
        "id": "YwH3nkcoNazB",
        "outputId": "8fb2e796-c77f-49d8-bbfc-531d592aa305"
      }
    }
  ]
}
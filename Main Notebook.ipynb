{
 "cells": [
  {
   "cell_type": "code",
   "execution_count": null,
   "source": [
    "pip install tensorflow-datasets==4.3.0"
   ],
   "outputs": [],
   "metadata": {}
  },
  {
   "cell_type": "code",
   "execution_count": null,
   "source": [
    "import tensorflow as tf\r\n",
    "\r\n",
    "device_name = tf.test.gpu_device_name()\r\n",
    "if device_name != '/device:GPU:0':\r\n",
    "  raise SystemError('GPU device not found')\r\n",
    "print('Found GPU at: {}'.format(device_name))"
   ],
   "outputs": [],
   "metadata": {}
  },
  {
   "cell_type": "code",
   "execution_count": null,
   "source": [
    "device_name = tf.test.gpu_device_name()\r\n",
    "if device_name != '/device:GPU:0':\r\n",
    "  print(\r\n",
    "      '\\n\\nThis error most likely means that this notebook is not '\r\n",
    "      'configured to use a GPU.  Change this in Notebook Settings via the '\r\n",
    "      'command palette (cmd/ctrl-shift-P) or the Edit menu.\\n\\n')\r\n",
    "  raise SystemError('GPU device not found')"
   ],
   "outputs": [],
   "metadata": {}
  }
 ],
 "metadata": {
  "orig_nbformat": 4,
  "language_info": {
   "name": "python"
  }
 },
 "nbformat": 4,
 "nbformat_minor": 2
}